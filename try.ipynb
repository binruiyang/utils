{
 "cells": [
  {
   "cell_type": "code",
   "execution_count": 4,
   "metadata": {},
   "outputs": [
    {
     "data": {
      "image/png": "[encoded data removed]",
      "text/plain": [
       "<Figure size 1008x576 with 1 Axes>"
      ]
     },
     "metadata": {
      "needs_background": "light"
     },
     "output_type": "display_data"
    }
   ],
   "source": [
    "import pandas as pd\n",
    "import numpy as np\n",
    "import matplotlib.pyplot as plt\n",
    "from sklearn.metrics import confusion_matrix\n",
    "\n",
    "# Sample DataFrame\n",
    "data = {\n",
    "    'Y_true': [0, 1, 0, 1, 0, 1, 0, 1, 1, 0, 1],\n",
    "    'Y_Pred': [0, 1, 0, 1, 1, 0, 0, 1, 1, 1, 0],\n",
    "    'n_drivers': [1, 1, 1, 1, 2, 2, 2, 2, 2, 3, 3]\n",
    "}\n",
    "df = pd.DataFrame(data)\n",
    "\n",
    "# Function to calculate confusion matrix components\n",
    "def confusion_components(group):\n",
    "    tn, fp, fn, tp = confusion_matrix(group['Y_true'], group['Y_Pred'], labels=[0, 1]).ravel()\n",
    "    return pd.Series({'TN': tn, 'FP': fp, 'FN': fn, 'TP': tp})\n",
    "\n",
    "# Group by 'n_drivers' and calculate confusion matrix components for each group\n",
    "confusion_df = df.groupby('n_drivers').apply(confusion_components).reset_index()\n",
    "\n",
    "# Plotting with Matplotlib\n",
    "plt.figure(figsize=(14, 8))\n",
    "\n",
    "# Define bar width and positions\n",
    "bar_width = 0.35\n",
    "bar_positions = np.arange(len(confusion_df['n_drivers']))\n",
    "\n",
    "# Stacked bars\n",
    "bottom_values = np.zeros(len(confusion_df['n_drivers']))\n",
    "for type_label in ['TN', 'FP', 'FN', 'TP']:\n",
    "    values = confusion_df[type_label].values\n",
    "    bars = plt.bar(bar_positions, values, bottom=bottom_values, label=type_label, width=bar_width)\n",
    "    bottom_values += values\n",
    "    \n",
    "    # Annotate bars with counts\n",
    "    for bar, count in zip(bars, values):\n",
    "        if count > 0:  # Only annotate if the count is greater than 0\n",
    "            plt.text(bar.get_x() + bar.get_width() / 2, bar.get_y() + bar.get_height() / 2, \n",
    "                     int(count), ha='center', va='center', color='white', fontsize=12)\n",
    "\n",
    "# Adding labels and title\n",
    "plt.xlabel('Number of Drivers')\n",
    "plt.ylabel('Count')\n",
    "plt.title('Prediction Results by Number of Drivers')\n",
    "plt.xticks(bar_positions, confusion_df['n_drivers'])\n",
    "plt.legend(title='Prediction Type')\n",
    "\n",
    "# Display the plot\n",
    "plt.show()\n"
   ]
  },
  {
   "cell_type": "code",
   "execution_count": null,
   "metadata": {},
   "outputs": [],
   "source": []
  }
 ],
 "metadata": {
  "kernelspec": {
   "display_name": "base",
   "language": "python",
   "name": "python3"
  },
  "language_info": {
   "codemirror_mode": {
    "name": "ipython",
    "version": 3
   },
   "file_extension": ".py",
   "mimetype": "text/x-python",
   "name": "python",
   "nbconvert_exporter": "python",
   "pygments_lexer": "ipython3",
   "version": "3.9.12"
  }
 },
 "nbformat": 4,
 "nbformat_minor": 2
}
